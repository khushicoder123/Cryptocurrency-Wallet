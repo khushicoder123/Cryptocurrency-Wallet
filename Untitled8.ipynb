{
  "cells": [
    {
      "cell_type": "code",
      "execution_count": 2,
      "metadata": {
        "colab": {
          "base_uri": "https://localhost:8080/"
        },
        "id": "-p45JTxMuDGJ",
        "outputId": "86ad104c-35d1-4c28-c800-89caedf4fcbb"
      },
      "outputs": [
        {
          "name": "stdout",
          "output_type": "stream",
          "text": [
            "Drive already mounted at /content/gdrive; to attempt to forcibly remount, call drive.mount(\"/content/gdrive\", force_remount=True).\n"
          ]
        }
      ],
      "source": [
        "from google.colab import drive\n",
        "drive.mount('/content/gdrive')"
      ]
    },
    {
      "cell_type": "code",
      "execution_count": 10,
      "metadata": {
        "colab": {
          "base_uri": "https://localhost:8080/"
        },
        "id": "MjDT0vd42jW3",
        "outputId": "b0b93c68-b287-45ef-e255-9dc71b61b490"
      },
      "outputs": [
        {
          "name": "stdout",
          "output_type": "stream",
          "text": [
            "Looking in indexes: https://pypi.org/simple, https://us-python.pkg.dev/colab-wheels/public/simple/\n",
            "Requirement already satisfied: ta in /usr/local/lib/python3.8/dist-packages (0.10.2)\n",
            "Requirement already satisfied: pandas in /usr/local/lib/python3.8/dist-packages (from ta) (1.3.5)\n",
            "Requirement already satisfied: numpy in /usr/local/lib/python3.8/dist-packages (from ta) (1.21.6)\n",
            "Requirement already satisfied: pytz>=2017.3 in /usr/local/lib/python3.8/dist-packages (from pandas->ta) (2022.7.1)\n",
            "Requirement already satisfied: python-dateutil>=2.7.3 in /usr/local/lib/python3.8/dist-packages (from pandas->ta) (2.8.2)\n",
            "Requirement already satisfied: six>=1.5 in /usr/local/lib/python3.8/dist-packages (from python-dateutil>=2.7.3->pandas->ta) (1.15.0)\n"
          ]
        }
      ],
      "source": [
        "!pip install ta"
      ]
    },
    {
      "cell_type": "code",
      "execution_count": 13,
      "metadata": {
        "id": "qI5XO3Yl5avT"
      },
      "outputs": [],
      "source": [
        "import tensorflow as tf\n",
        "from tensorflow import keras\n",
        "from tensorflow.keras import layers\n"
      ]
    },
    {
      "cell_type": "code",
      "execution_count": 14,
      "metadata": {
        "colab": {
          "base_uri": "https://localhost:8080/"
        },
        "id": "Ym9SUW4A56vi",
        "outputId": "12e40fa9-0abc-42e4-99df-1c8f660bf272"
      },
      "outputs": [
        {
          "name": "stdout",
          "output_type": "stream",
          "text": [
            "\u001b[2K     \u001b[90m━━━━━━━━━━━━━━━━━━━━━━━━━━━━━━━━━━━━━━\u001b[0m \u001b[32m168.1/168.1 KB\u001b[0m \u001b[31m13.7 MB/s\u001b[0m eta \u001b[36m0:00:00\u001b[0m\n",
            "\u001b[2K     \u001b[90m━━━━━━━━━━━━━━━━━━━━━━━━━━━━━━━━━━━━━━━━\u001b[0m \u001b[32m1.6/1.6 MB\u001b[0m \u001b[31m81.1 MB/s\u001b[0m eta \u001b[36m0:00:00\u001b[0m\n",
            "\u001b[?25h"
          ]
        }
      ],
      "source": [
        "pip install -q -U keras-tuner"
      ]
    },
    {
      "cell_type": "code",
      "execution_count": 15,
      "metadata": {
        "id": "aLT1eap95jcw"
      },
      "outputs": [],
      "source": [
        "import os\n",
        "import numpy as np\n",
        "import pandas as pd\n",
        "import matplotlib.pylab as plt\n",
        "import ta\n",
        "\n",
        "from keras_tuner.tuners import RandomSearch\n",
        "from keras.callbacks import EarlyStopping\n",
        "from tensorflow.keras.optimizers import Adam\n",
        "from tensorflow.keras import Sequential\n",
        "from tensorflow.keras.layers import LSTM, GRU, Dropout, Dense\n",
        "from sklearn.preprocessing import MinMaxScaler\n",
        "from sklearn.ensemble import GradientBoostingRegressor\n",
        "from sklearn.inspection import permutation_importance\n",
        "from sklearn.metrics import mean_squared_error\n",
        "from sklearn.model_selection import train_test_split, TimeSeriesSplit"
      ]
    },
    {
      "cell_type": "code",
      "execution_count": 18,
      "metadata": {
        "id": "3AoWpkh7827t"
      },
      "outputs": [],
      "source": [
        "import numpy as np\n",
        "import pandas as pd\n",
        "import matplotlib.pyplot as plt\n",
        "import math\n",
        "\n",
        "from sklearn.preprocessing import MinMaxScaler\n",
        "from sklearn.metrics import mean_squared_error\n",
        "\n",
        "from keras.models import Sequential\n",
        "from keras.layers import Dense\n",
        "from keras.layers import LSTM"
      ]
    },
    {
      "cell_type": "code",
      "execution_count": 19,
      "metadata": {
        "id": "aExvYoDd9kYb"
      },
      "outputs": [],
      "source": [
        "data = pd.read_csv(\"/content/gdrive/MyDrive/bitcoin_ticker.csv\")"
      ]
    },
    {
      "cell_type": "code",
      "execution_count": 20,
      "metadata": {
        "colab": {
          "base_uri": "https://localhost:8080/",
          "height": 357
        },
        "id": "e2yS9ZCn9x9w",
        "outputId": "2889dff2-4793-4c7c-9bd1-f607a2e7cb09"
      },
      "outputs": [
        {
          "data": {
            "text/html": [
              "\n",
              "  <div id=\"df-1a31047b-66fa-4ea0-97c7-85d41e4733ee\">\n",
              "    <div class=\"colab-df-container\">\n",
              "      <div>\n",
              "<style scoped>\n",
              "    .dataframe tbody tr th:only-of-type {\n",
              "        vertical-align: middle;\n",
              "    }\n",
              "\n",
              "    .dataframe tbody tr th {\n",
              "        vertical-align: top;\n",
              "    }\n",
              "\n",
              "    .dataframe thead th {\n",
              "        text-align: right;\n",
              "    }\n",
              "</style>\n",
              "<table border=\"1\" class=\"dataframe\">\n",
              "  <thead>\n",
              "    <tr style=\"text-align: right;\">\n",
              "      <th></th>\n",
              "      <th>date_id</th>\n",
              "      <th>datetime_id</th>\n",
              "      <th>market</th>\n",
              "      <th>rpt_key</th>\n",
              "      <th>last</th>\n",
              "      <th>diff_24h</th>\n",
              "      <th>diff_per_24h</th>\n",
              "      <th>bid</th>\n",
              "      <th>ask</th>\n",
              "      <th>low</th>\n",
              "      <th>high</th>\n",
              "      <th>volume</th>\n",
              "      <th>created_at</th>\n",
              "      <th>updated_at</th>\n",
              "    </tr>\n",
              "  </thead>\n",
              "  <tbody>\n",
              "    <tr>\n",
              "      <th>0</th>\n",
              "      <td>2017-05-31</td>\n",
              "      <td>2017-06-01 00:00:00</td>\n",
              "      <td>bitstamp</td>\n",
              "      <td>btc_eur</td>\n",
              "      <td>1996.72</td>\n",
              "      <td>2029.99</td>\n",
              "      <td>-1.638924</td>\n",
              "      <td>2005.50</td>\n",
              "      <td>2005.56</td>\n",
              "      <td>1950.00</td>\n",
              "      <td>2063.73</td>\n",
              "      <td>2314.500750</td>\n",
              "      <td>2017-05-31 14:59:36</td>\n",
              "      <td>2017-05-31 14:59:36</td>\n",
              "    </tr>\n",
              "    <tr>\n",
              "      <th>1</th>\n",
              "      <td>2017-05-31</td>\n",
              "      <td>2017-06-01 00:00:00</td>\n",
              "      <td>bitflyer</td>\n",
              "      <td>btc_jpy</td>\n",
              "      <td>267098.00</td>\n",
              "      <td>269649.00</td>\n",
              "      <td>-0.946045</td>\n",
              "      <td>267124.00</td>\n",
              "      <td>267267.00</td>\n",
              "      <td>267124.00</td>\n",
              "      <td>267267.00</td>\n",
              "      <td>70922.880112</td>\n",
              "      <td>2017-05-31 14:59:36</td>\n",
              "      <td>2017-05-31 14:59:36</td>\n",
              "    </tr>\n",
              "    <tr>\n",
              "      <th>2</th>\n",
              "      <td>2017-05-31</td>\n",
              "      <td>2017-06-01 00:00:00</td>\n",
              "      <td>korbit</td>\n",
              "      <td>btc_krw</td>\n",
              "      <td>3003500.00</td>\n",
              "      <td>3140000.00</td>\n",
              "      <td>-4.347134</td>\n",
              "      <td>3003500.00</td>\n",
              "      <td>3004000.00</td>\n",
              "      <td>3002000.00</td>\n",
              "      <td>3209500.00</td>\n",
              "      <td>6109.752872</td>\n",
              "      <td>2017-05-31 14:59:36</td>\n",
              "      <td>2017-05-31 14:59:36</td>\n",
              "    </tr>\n",
              "    <tr>\n",
              "      <th>3</th>\n",
              "      <td>2017-05-31</td>\n",
              "      <td>2017-06-01 00:00:00</td>\n",
              "      <td>bitstamp</td>\n",
              "      <td>btc_usd</td>\n",
              "      <td>2237.40</td>\n",
              "      <td>2239.37</td>\n",
              "      <td>-0.087971</td>\n",
              "      <td>2233.09</td>\n",
              "      <td>2237.40</td>\n",
              "      <td>2154.28</td>\n",
              "      <td>2293.46</td>\n",
              "      <td>13681.282017</td>\n",
              "      <td>2017-05-31 14:59:36</td>\n",
              "      <td>2017-05-31 14:59:36</td>\n",
              "    </tr>\n",
              "    <tr>\n",
              "      <th>4</th>\n",
              "      <td>2017-05-31</td>\n",
              "      <td>2017-06-01 00:00:00</td>\n",
              "      <td>okcoin</td>\n",
              "      <td>btc_usd</td>\n",
              "      <td>2318.82</td>\n",
              "      <td>2228.70</td>\n",
              "      <td>4.043613</td>\n",
              "      <td>2319.40</td>\n",
              "      <td>2319.99</td>\n",
              "      <td>2129.78</td>\n",
              "      <td>2318.82</td>\n",
              "      <td>4241.641516</td>\n",
              "      <td>2017-05-31 14:59:36</td>\n",
              "      <td>2017-05-31 14:59:36</td>\n",
              "    </tr>\n",
              "  </tbody>\n",
              "</table>\n",
              "</div>\n",
              "      <button class=\"colab-df-convert\" onclick=\"convertToInteractive('df-1a31047b-66fa-4ea0-97c7-85d41e4733ee')\"\n",
              "              title=\"Convert this dataframe to an interactive table.\"\n",
              "              style=\"display:none;\">\n",
              "        \n",
              "  <svg xmlns=\"http://www.w3.org/2000/svg\" height=\"24px\"viewBox=\"0 0 24 24\"\n",
              "       width=\"24px\">\n",
              "    <path d=\"M0 0h24v24H0V0z\" fill=\"none\"/>\n",
              "    <path d=\"M18.56 5.44l.94 2.06.94-2.06 2.06-.94-2.06-.94-.94-2.06-.94 2.06-2.06.94zm-11 1L8.5 8.5l.94-2.06 2.06-.94-2.06-.94L8.5 2.5l-.94 2.06-2.06.94zm10 10l.94 2.06.94-2.06 2.06-.94-2.06-.94-.94-2.06-.94 2.06-2.06.94z\"/><path d=\"M17.41 7.96l-1.37-1.37c-.4-.4-.92-.59-1.43-.59-.52 0-1.04.2-1.43.59L10.3 9.45l-7.72 7.72c-.78.78-.78 2.05 0 2.83L4 21.41c.39.39.9.59 1.41.59.51 0 1.02-.2 1.41-.59l7.78-7.78 2.81-2.81c.8-.78.8-2.07 0-2.86zM5.41 20L4 18.59l7.72-7.72 1.47 1.35L5.41 20z\"/>\n",
              "  </svg>\n",
              "      </button>\n",
              "      \n",
              "  <style>\n",
              "    .colab-df-container {\n",
              "      display:flex;\n",
              "      flex-wrap:wrap;\n",
              "      gap: 12px;\n",
              "    }\n",
              "\n",
              "    .colab-df-convert {\n",
              "      background-color: #E8F0FE;\n",
              "      border: none;\n",
              "      border-radius: 50%;\n",
              "      cursor: pointer;\n",
              "      display: none;\n",
              "      fill: #1967D2;\n",
              "      height: 32px;\n",
              "      padding: 0 0 0 0;\n",
              "      width: 32px;\n",
              "    }\n",
              "\n",
              "    .colab-df-convert:hover {\n",
              "      background-color: #E2EBFA;\n",
              "      box-shadow: 0px 1px 2px rgba(60, 64, 67, 0.3), 0px 1px 3px 1px rgba(60, 64, 67, 0.15);\n",
              "      fill: #174EA6;\n",
              "    }\n",
              "\n",
              "    [theme=dark] .colab-df-convert {\n",
              "      background-color: #3B4455;\n",
              "      fill: #D2E3FC;\n",
              "    }\n",
              "\n",
              "    [theme=dark] .colab-df-convert:hover {\n",
              "      background-color: #434B5C;\n",
              "      box-shadow: 0px 1px 3px 1px rgba(0, 0, 0, 0.15);\n",
              "      filter: drop-shadow(0px 1px 2px rgba(0, 0, 0, 0.3));\n",
              "      fill: #FFFFFF;\n",
              "    }\n",
              "  </style>\n",
              "\n",
              "      <script>\n",
              "        const buttonEl =\n",
              "          document.querySelector('#df-1a31047b-66fa-4ea0-97c7-85d41e4733ee button.colab-df-convert');\n",
              "        buttonEl.style.display =\n",
              "          google.colab.kernel.accessAllowed ? 'block' : 'none';\n",
              "\n",
              "        async function convertToInteractive(key) {\n",
              "          const element = document.querySelector('#df-1a31047b-66fa-4ea0-97c7-85d41e4733ee');\n",
              "          const dataTable =\n",
              "            await google.colab.kernel.invokeFunction('convertToInteractive',\n",
              "                                                     [key], {});\n",
              "          if (!dataTable) return;\n",
              "\n",
              "          const docLinkHtml = 'Like what you see? Visit the ' +\n",
              "            '<a target=\"_blank\" href=https://colab.research.google.com/notebooks/data_table.ipynb>data table notebook</a>'\n",
              "            + ' to learn more about interactive tables.';\n",
              "          element.innerHTML = '';\n",
              "          dataTable['output_type'] = 'display_data';\n",
              "          await google.colab.output.renderOutput(dataTable, element);\n",
              "          const docLink = document.createElement('div');\n",
              "          docLink.innerHTML = docLinkHtml;\n",
              "          element.appendChild(docLink);\n",
              "        }\n",
              "      </script>\n",
              "    </div>\n",
              "  </div>\n",
              "  "
            ],
            "text/plain": [
              "      date_id          datetime_id    market  rpt_key        last    diff_24h  \\\n",
              "0  2017-05-31  2017-06-01 00:00:00  bitstamp  btc_eur     1996.72     2029.99   \n",
              "1  2017-05-31  2017-06-01 00:00:00  bitflyer  btc_jpy   267098.00   269649.00   \n",
              "2  2017-05-31  2017-06-01 00:00:00    korbit  btc_krw  3003500.00  3140000.00   \n",
              "3  2017-05-31  2017-06-01 00:00:00  bitstamp  btc_usd     2237.40     2239.37   \n",
              "4  2017-05-31  2017-06-01 00:00:00    okcoin  btc_usd     2318.82     2228.70   \n",
              "\n",
              "   diff_per_24h         bid         ask         low        high        volume  \\\n",
              "0     -1.638924     2005.50     2005.56     1950.00     2063.73   2314.500750   \n",
              "1     -0.946045   267124.00   267267.00   267124.00   267267.00  70922.880112   \n",
              "2     -4.347134  3003500.00  3004000.00  3002000.00  3209500.00   6109.752872   \n",
              "3     -0.087971     2233.09     2237.40     2154.28     2293.46  13681.282017   \n",
              "4      4.043613     2319.40     2319.99     2129.78     2318.82   4241.641516   \n",
              "\n",
              "            created_at           updated_at  \n",
              "0  2017-05-31 14:59:36  2017-05-31 14:59:36  \n",
              "1  2017-05-31 14:59:36  2017-05-31 14:59:36  \n",
              "2  2017-05-31 14:59:36  2017-05-31 14:59:36  \n",
              "3  2017-05-31 14:59:36  2017-05-31 14:59:36  \n",
              "4  2017-05-31 14:59:36  2017-05-31 14:59:36  "
            ]
          },
          "execution_count": 20,
          "metadata": {},
          "output_type": "execute_result"
        }
      ],
      "source": [
        "data.head()"
      ]
    },
    {
      "cell_type": "code",
      "execution_count": 21,
      "metadata": {
        "colab": {
          "base_uri": "https://localhost:8080/"
        },
        "id": "7J5MFG_N9000",
        "outputId": "4263e597-d911-4178-cc42-27adfa0f4ede"
      },
      "outputs": [
        {
          "data": {
            "text/plain": [
              "btc_usd       125438\n",
              "btc_eur        62719\n",
              "btc_jpy        62719\n",
              "btc_krw        62719\n",
              "etc_krw        62719\n",
              "eth_btc        62719\n",
              "eth_krw        62719\n",
              "fx_btc_jpy     62719\n",
              "ltc_usd        62719\n",
              "Name: rpt_key, dtype: int64"
            ]
          },
          "execution_count": 21,
          "metadata": {},
          "output_type": "execute_result"
        }
      ],
      "source": [
        "data['rpt_key'].value_counts()"
      ]
    },
    {
      "cell_type": "code",
      "execution_count": 22,
      "metadata": {
        "id": "x-h1diN693m0"
      },
      "outputs": [],
      "source": [
        "df = data.loc[(data['rpt_key'] == 'btc_usd')]\n"
      ]
    },
    {
      "cell_type": "code",
      "execution_count": 23,
      "metadata": {
        "colab": {
          "base_uri": "https://localhost:8080/",
          "height": 357
        },
        "id": "xeL5JQgy95NP",
        "outputId": "dd7aa408-7b86-41d2-8a3f-7c869588b169"
      },
      "outputs": [
        {
          "data": {
            "text/html": [
              "\n",
              "  <div id=\"df-2bf9040d-a975-425a-8667-3740ec9954bf\">\n",
              "    <div class=\"colab-df-container\">\n",
              "      <div>\n",
              "<style scoped>\n",
              "    .dataframe tbody tr th:only-of-type {\n",
              "        vertical-align: middle;\n",
              "    }\n",
              "\n",
              "    .dataframe tbody tr th {\n",
              "        vertical-align: top;\n",
              "    }\n",
              "\n",
              "    .dataframe thead th {\n",
              "        text-align: right;\n",
              "    }\n",
              "</style>\n",
              "<table border=\"1\" class=\"dataframe\">\n",
              "  <thead>\n",
              "    <tr style=\"text-align: right;\">\n",
              "      <th></th>\n",
              "      <th>date_id</th>\n",
              "      <th>datetime_id</th>\n",
              "      <th>market</th>\n",
              "      <th>rpt_key</th>\n",
              "      <th>last</th>\n",
              "      <th>diff_24h</th>\n",
              "      <th>diff_per_24h</th>\n",
              "      <th>bid</th>\n",
              "      <th>ask</th>\n",
              "      <th>low</th>\n",
              "      <th>high</th>\n",
              "      <th>volume</th>\n",
              "      <th>created_at</th>\n",
              "      <th>updated_at</th>\n",
              "    </tr>\n",
              "  </thead>\n",
              "  <tbody>\n",
              "    <tr>\n",
              "      <th>3</th>\n",
              "      <td>2017-05-31</td>\n",
              "      <td>2017-06-01 00:00:00</td>\n",
              "      <td>bitstamp</td>\n",
              "      <td>btc_usd</td>\n",
              "      <td>2237.40</td>\n",
              "      <td>2239.37</td>\n",
              "      <td>-0.087971</td>\n",
              "      <td>2233.09</td>\n",
              "      <td>2237.40</td>\n",
              "      <td>2154.28</td>\n",
              "      <td>2293.46</td>\n",
              "      <td>13681.282017</td>\n",
              "      <td>2017-05-31 14:59:36</td>\n",
              "      <td>2017-05-31 14:59:36</td>\n",
              "    </tr>\n",
              "    <tr>\n",
              "      <th>4</th>\n",
              "      <td>2017-05-31</td>\n",
              "      <td>2017-06-01 00:00:00</td>\n",
              "      <td>okcoin</td>\n",
              "      <td>btc_usd</td>\n",
              "      <td>2318.82</td>\n",
              "      <td>2228.70</td>\n",
              "      <td>4.043613</td>\n",
              "      <td>2319.40</td>\n",
              "      <td>2319.99</td>\n",
              "      <td>2129.78</td>\n",
              "      <td>2318.82</td>\n",
              "      <td>4241.641516</td>\n",
              "      <td>2017-05-31 14:59:36</td>\n",
              "      <td>2017-05-31 14:59:36</td>\n",
              "    </tr>\n",
              "    <tr>\n",
              "      <th>15</th>\n",
              "      <td>2017-06-01</td>\n",
              "      <td>2017-06-01 00:01:00</td>\n",
              "      <td>bitstamp</td>\n",
              "      <td>btc_usd</td>\n",
              "      <td>2248.39</td>\n",
              "      <td>2242.44</td>\n",
              "      <td>0.265336</td>\n",
              "      <td>2247.77</td>\n",
              "      <td>2248.38</td>\n",
              "      <td>2154.28</td>\n",
              "      <td>2293.46</td>\n",
              "      <td>13701.698603</td>\n",
              "      <td>2017-05-31 15:00:36</td>\n",
              "      <td>2017-05-31 15:00:36</td>\n",
              "    </tr>\n",
              "    <tr>\n",
              "      <th>16</th>\n",
              "      <td>2017-06-01</td>\n",
              "      <td>2017-06-01 00:01:00</td>\n",
              "      <td>okcoin</td>\n",
              "      <td>btc_usd</td>\n",
              "      <td>2320.42</td>\n",
              "      <td>2228.40</td>\n",
              "      <td>4.129420</td>\n",
              "      <td>2320.99</td>\n",
              "      <td>2321.49</td>\n",
              "      <td>2129.78</td>\n",
              "      <td>2322.00</td>\n",
              "      <td>4260.261516</td>\n",
              "      <td>2017-05-31 15:00:36</td>\n",
              "      <td>2017-05-31 15:00:36</td>\n",
              "    </tr>\n",
              "    <tr>\n",
              "      <th>23</th>\n",
              "      <td>2017-06-01</td>\n",
              "      <td>2017-06-01 00:02:00</td>\n",
              "      <td>bitstamp</td>\n",
              "      <td>btc_usd</td>\n",
              "      <td>2248.35</td>\n",
              "      <td>2238.58</td>\n",
              "      <td>0.436437</td>\n",
              "      <td>2248.35</td>\n",
              "      <td>2248.69</td>\n",
              "      <td>2154.28</td>\n",
              "      <td>2293.46</td>\n",
              "      <td>13742.110913</td>\n",
              "      <td>2017-05-31 15:01:36</td>\n",
              "      <td>2017-05-31 15:01:36</td>\n",
              "    </tr>\n",
              "  </tbody>\n",
              "</table>\n",
              "</div>\n",
              "      <button class=\"colab-df-convert\" onclick=\"convertToInteractive('df-2bf9040d-a975-425a-8667-3740ec9954bf')\"\n",
              "              title=\"Convert this dataframe to an interactive table.\"\n",
              "              style=\"display:none;\">\n",
              "        \n",
              "  <svg xmlns=\"http://www.w3.org/2000/svg\" height=\"24px\"viewBox=\"0 0 24 24\"\n",
              "       width=\"24px\">\n",
              "    <path d=\"M0 0h24v24H0V0z\" fill=\"none\"/>\n",
              "    <path d=\"M18.56 5.44l.94 2.06.94-2.06 2.06-.94-2.06-.94-.94-2.06-.94 2.06-2.06.94zm-11 1L8.5 8.5l.94-2.06 2.06-.94-2.06-.94L8.5 2.5l-.94 2.06-2.06.94zm10 10l.94 2.06.94-2.06 2.06-.94-2.06-.94-.94-2.06-.94 2.06-2.06.94z\"/><path d=\"M17.41 7.96l-1.37-1.37c-.4-.4-.92-.59-1.43-.59-.52 0-1.04.2-1.43.59L10.3 9.45l-7.72 7.72c-.78.78-.78 2.05 0 2.83L4 21.41c.39.39.9.59 1.41.59.51 0 1.02-.2 1.41-.59l7.78-7.78 2.81-2.81c.8-.78.8-2.07 0-2.86zM5.41 20L4 18.59l7.72-7.72 1.47 1.35L5.41 20z\"/>\n",
              "  </svg>\n",
              "      </button>\n",
              "      \n",
              "  <style>\n",
              "    .colab-df-container {\n",
              "      display:flex;\n",
              "      flex-wrap:wrap;\n",
              "      gap: 12px;\n",
              "    }\n",
              "\n",
              "    .colab-df-convert {\n",
              "      background-color: #E8F0FE;\n",
              "      border: none;\n",
              "      border-radius: 50%;\n",
              "      cursor: pointer;\n",
              "      display: none;\n",
              "      fill: #1967D2;\n",
              "      height: 32px;\n",
              "      padding: 0 0 0 0;\n",
              "      width: 32px;\n",
              "    }\n",
              "\n",
              "    .colab-df-convert:hover {\n",
              "      background-color: #E2EBFA;\n",
              "      box-shadow: 0px 1px 2px rgba(60, 64, 67, 0.3), 0px 1px 3px 1px rgba(60, 64, 67, 0.15);\n",
              "      fill: #174EA6;\n",
              "    }\n",
              "\n",
              "    [theme=dark] .colab-df-convert {\n",
              "      background-color: #3B4455;\n",
              "      fill: #D2E3FC;\n",
              "    }\n",
              "\n",
              "    [theme=dark] .colab-df-convert:hover {\n",
              "      background-color: #434B5C;\n",
              "      box-shadow: 0px 1px 3px 1px rgba(0, 0, 0, 0.15);\n",
              "      filter: drop-shadow(0px 1px 2px rgba(0, 0, 0, 0.3));\n",
              "      fill: #FFFFFF;\n",
              "    }\n",
              "  </style>\n",
              "\n",
              "      <script>\n",
              "        const buttonEl =\n",
              "          document.querySelector('#df-2bf9040d-a975-425a-8667-3740ec9954bf button.colab-df-convert');\n",
              "        buttonEl.style.display =\n",
              "          google.colab.kernel.accessAllowed ? 'block' : 'none';\n",
              "\n",
              "        async function convertToInteractive(key) {\n",
              "          const element = document.querySelector('#df-2bf9040d-a975-425a-8667-3740ec9954bf');\n",
              "          const dataTable =\n",
              "            await google.colab.kernel.invokeFunction('convertToInteractive',\n",
              "                                                     [key], {});\n",
              "          if (!dataTable) return;\n",
              "\n",
              "          const docLinkHtml = 'Like what you see? Visit the ' +\n",
              "            '<a target=\"_blank\" href=https://colab.research.google.com/notebooks/data_table.ipynb>data table notebook</a>'\n",
              "            + ' to learn more about interactive tables.';\n",
              "          element.innerHTML = '';\n",
              "          dataTable['output_type'] = 'display_data';\n",
              "          await google.colab.output.renderOutput(dataTable, element);\n",
              "          const docLink = document.createElement('div');\n",
              "          docLink.innerHTML = docLinkHtml;\n",
              "          element.appendChild(docLink);\n",
              "        }\n",
              "      </script>\n",
              "    </div>\n",
              "  </div>\n",
              "  "
            ],
            "text/plain": [
              "       date_id          datetime_id    market  rpt_key     last  diff_24h  \\\n",
              "3   2017-05-31  2017-06-01 00:00:00  bitstamp  btc_usd  2237.40   2239.37   \n",
              "4   2017-05-31  2017-06-01 00:00:00    okcoin  btc_usd  2318.82   2228.70   \n",
              "15  2017-06-01  2017-06-01 00:01:00  bitstamp  btc_usd  2248.39   2242.44   \n",
              "16  2017-06-01  2017-06-01 00:01:00    okcoin  btc_usd  2320.42   2228.40   \n",
              "23  2017-06-01  2017-06-01 00:02:00  bitstamp  btc_usd  2248.35   2238.58   \n",
              "\n",
              "    diff_per_24h      bid      ask      low     high        volume  \\\n",
              "3      -0.087971  2233.09  2237.40  2154.28  2293.46  13681.282017   \n",
              "4       4.043613  2319.40  2319.99  2129.78  2318.82   4241.641516   \n",
              "15      0.265336  2247.77  2248.38  2154.28  2293.46  13701.698603   \n",
              "16      4.129420  2320.99  2321.49  2129.78  2322.00   4260.261516   \n",
              "23      0.436437  2248.35  2248.69  2154.28  2293.46  13742.110913   \n",
              "\n",
              "             created_at           updated_at  \n",
              "3   2017-05-31 14:59:36  2017-05-31 14:59:36  \n",
              "4   2017-05-31 14:59:36  2017-05-31 14:59:36  \n",
              "15  2017-05-31 15:00:36  2017-05-31 15:00:36  \n",
              "16  2017-05-31 15:00:36  2017-05-31 15:00:36  \n",
              "23  2017-05-31 15:01:36  2017-05-31 15:01:36  "
            ]
          },
          "execution_count": 23,
          "metadata": {},
          "output_type": "execute_result"
        }
      ],
      "source": [
        "df.head()"
      ]
    },
    {
      "cell_type": "code",
      "execution_count": 24,
      "metadata": {
        "id": "OnxLIjIH972X"
      },
      "outputs": [],
      "source": [
        "df = df.reset_index(drop=True)\n",
        "df['datetime'] = pd.to_datetime(df['datetime_id'])\n",
        "df = df.loc[df['datetime'] > pd.to_datetime('2017-06-28 00:00:00')]"
      ]
    },
    {
      "cell_type": "code",
      "execution_count": 25,
      "metadata": {
        "id": "Ff7EU188-Ckn"
      },
      "outputs": [],
      "source": [
        "df = df[['datetime', 'last', 'diff_24h', 'diff_per_24h', 'bid', 'ask', 'low', 'high', 'volume']]"
      ]
    },
    {
      "cell_type": "code",
      "execution_count": 26,
      "metadata": {
        "colab": {
          "base_uri": "https://localhost:8080/",
          "height": 443
        },
        "id": "igc2MkH4-FV_",
        "outputId": "4871014e-920f-4947-c9c6-17792a80994f"
      },
      "outputs": [
        {
          "data": {
            "text/html": [
              "\n",
              "  <div id=\"df-4b891573-e404-4add-a119-ae6e836694ac\">\n",
              "    <div class=\"colab-df-container\">\n",
              "      <div>\n",
              "<style scoped>\n",
              "    .dataframe tbody tr th:only-of-type {\n",
              "        vertical-align: middle;\n",
              "    }\n",
              "\n",
              "    .dataframe tbody tr th {\n",
              "        vertical-align: top;\n",
              "    }\n",
              "\n",
              "    .dataframe thead th {\n",
              "        text-align: right;\n",
              "    }\n",
              "</style>\n",
              "<table border=\"1\" class=\"dataframe\">\n",
              "  <thead>\n",
              "    <tr style=\"text-align: right;\">\n",
              "      <th></th>\n",
              "      <th>datetime</th>\n",
              "      <th>last</th>\n",
              "      <th>diff_24h</th>\n",
              "      <th>diff_per_24h</th>\n",
              "      <th>bid</th>\n",
              "      <th>ask</th>\n",
              "      <th>low</th>\n",
              "      <th>high</th>\n",
              "      <th>volume</th>\n",
              "    </tr>\n",
              "  </thead>\n",
              "  <tbody>\n",
              "    <tr>\n",
              "      <th>77762</th>\n",
              "      <td>2017-06-28 00:01:00</td>\n",
              "      <td>2344.00</td>\n",
              "      <td>2491.98</td>\n",
              "      <td>-5.938250</td>\n",
              "      <td>2335.01</td>\n",
              "      <td>2343.89</td>\n",
              "      <td>2307.0</td>\n",
              "      <td>2473.19</td>\n",
              "      <td>20719.583592</td>\n",
              "    </tr>\n",
              "    <tr>\n",
              "      <th>77763</th>\n",
              "      <td>2017-06-28 00:01:00</td>\n",
              "      <td>2499.39</td>\n",
              "      <td>2682.25</td>\n",
              "      <td>-6.817411</td>\n",
              "      <td>2495.00</td>\n",
              "      <td>2499.33</td>\n",
              "      <td>2444.0</td>\n",
              "      <td>2780.62</td>\n",
              "      <td>2265.557866</td>\n",
              "    </tr>\n",
              "    <tr>\n",
              "      <th>77764</th>\n",
              "      <td>2017-06-28 00:02:00</td>\n",
              "      <td>2337.18</td>\n",
              "      <td>2491.98</td>\n",
              "      <td>-6.211928</td>\n",
              "      <td>2337.18</td>\n",
              "      <td>2340.00</td>\n",
              "      <td>2307.0</td>\n",
              "      <td>2473.19</td>\n",
              "      <td>20732.082581</td>\n",
              "    </tr>\n",
              "    <tr>\n",
              "      <th>77765</th>\n",
              "      <td>2017-06-28 00:02:00</td>\n",
              "      <td>2492.76</td>\n",
              "      <td>2682.25</td>\n",
              "      <td>-7.064591</td>\n",
              "      <td>2492.76</td>\n",
              "      <td>2495.00</td>\n",
              "      <td>2444.0</td>\n",
              "      <td>2780.62</td>\n",
              "      <td>2262.618866</td>\n",
              "    </tr>\n",
              "    <tr>\n",
              "      <th>77766</th>\n",
              "      <td>2017-06-28 00:03:00</td>\n",
              "      <td>2335.02</td>\n",
              "      <td>2491.98</td>\n",
              "      <td>-6.298606</td>\n",
              "      <td>2335.01</td>\n",
              "      <td>2335.02</td>\n",
              "      <td>2307.0</td>\n",
              "      <td>2473.19</td>\n",
              "      <td>20665.357191</td>\n",
              "    </tr>\n",
              "  </tbody>\n",
              "</table>\n",
              "</div>\n",
              "      <button class=\"colab-df-convert\" onclick=\"convertToInteractive('df-4b891573-e404-4add-a119-ae6e836694ac')\"\n",
              "              title=\"Convert this dataframe to an interactive table.\"\n",
              "              style=\"display:none;\">\n",
              "        \n",
              "  <svg xmlns=\"http://www.w3.org/2000/svg\" height=\"24px\"viewBox=\"0 0 24 24\"\n",
              "       width=\"24px\">\n",
              "    <path d=\"M0 0h24v24H0V0z\" fill=\"none\"/>\n",
              "    <path d=\"M18.56 5.44l.94 2.06.94-2.06 2.06-.94-2.06-.94-.94-2.06-.94 2.06-2.06.94zm-11 1L8.5 8.5l.94-2.06 2.06-.94-2.06-.94L8.5 2.5l-.94 2.06-2.06.94zm10 10l.94 2.06.94-2.06 2.06-.94-2.06-.94-.94-2.06-.94 2.06-2.06.94z\"/><path d=\"M17.41 7.96l-1.37-1.37c-.4-.4-.92-.59-1.43-.59-.52 0-1.04.2-1.43.59L10.3 9.45l-7.72 7.72c-.78.78-.78 2.05 0 2.83L4 21.41c.39.39.9.59 1.41.59.51 0 1.02-.2 1.41-.59l7.78-7.78 2.81-2.81c.8-.78.8-2.07 0-2.86zM5.41 20L4 18.59l7.72-7.72 1.47 1.35L5.41 20z\"/>\n",
              "  </svg>\n",
              "      </button>\n",
              "      \n",
              "  <style>\n",
              "    .colab-df-container {\n",
              "      display:flex;\n",
              "      flex-wrap:wrap;\n",
              "      gap: 12px;\n",
              "    }\n",
              "\n",
              "    .colab-df-convert {\n",
              "      background-color: #E8F0FE;\n",
              "      border: none;\n",
              "      border-radius: 50%;\n",
              "      cursor: pointer;\n",
              "      display: none;\n",
              "      fill: #1967D2;\n",
              "      height: 32px;\n",
              "      padding: 0 0 0 0;\n",
              "      width: 32px;\n",
              "    }\n",
              "\n",
              "    .colab-df-convert:hover {\n",
              "      background-color: #E2EBFA;\n",
              "      box-shadow: 0px 1px 2px rgba(60, 64, 67, 0.3), 0px 1px 3px 1px rgba(60, 64, 67, 0.15);\n",
              "      fill: #174EA6;\n",
              "    }\n",
              "\n",
              "    [theme=dark] .colab-df-convert {\n",
              "      background-color: #3B4455;\n",
              "      fill: #D2E3FC;\n",
              "    }\n",
              "\n",
              "    [theme=dark] .colab-df-convert:hover {\n",
              "      background-color: #434B5C;\n",
              "      box-shadow: 0px 1px 3px 1px rgba(0, 0, 0, 0.15);\n",
              "      filter: drop-shadow(0px 1px 2px rgba(0, 0, 0, 0.3));\n",
              "      fill: #FFFFFF;\n",
              "    }\n",
              "  </style>\n",
              "\n",
              "      <script>\n",
              "        const buttonEl =\n",
              "          document.querySelector('#df-4b891573-e404-4add-a119-ae6e836694ac button.colab-df-convert');\n",
              "        buttonEl.style.display =\n",
              "          google.colab.kernel.accessAllowed ? 'block' : 'none';\n",
              "\n",
              "        async function convertToInteractive(key) {\n",
              "          const element = document.querySelector('#df-4b891573-e404-4add-a119-ae6e836694ac');\n",
              "          const dataTable =\n",
              "            await google.colab.kernel.invokeFunction('convertToInteractive',\n",
              "                                                     [key], {});\n",
              "          if (!dataTable) return;\n",
              "\n",
              "          const docLinkHtml = 'Like what you see? Visit the ' +\n",
              "            '<a target=\"_blank\" href=https://colab.research.google.com/notebooks/data_table.ipynb>data table notebook</a>'\n",
              "            + ' to learn more about interactive tables.';\n",
              "          element.innerHTML = '';\n",
              "          dataTable['output_type'] = 'display_data';\n",
              "          await google.colab.output.renderOutput(dataTable, element);\n",
              "          const docLink = document.createElement('div');\n",
              "          docLink.innerHTML = docLinkHtml;\n",
              "          element.appendChild(docLink);\n",
              "        }\n",
              "      </script>\n",
              "    </div>\n",
              "  </div>\n",
              "  "
            ],
            "text/plain": [
              "                 datetime     last  diff_24h  diff_per_24h      bid      ask  \\\n",
              "77762 2017-06-28 00:01:00  2344.00   2491.98     -5.938250  2335.01  2343.89   \n",
              "77763 2017-06-28 00:01:00  2499.39   2682.25     -6.817411  2495.00  2499.33   \n",
              "77764 2017-06-28 00:02:00  2337.18   2491.98     -6.211928  2337.18  2340.00   \n",
              "77765 2017-06-28 00:02:00  2492.76   2682.25     -7.064591  2492.76  2495.00   \n",
              "77766 2017-06-28 00:03:00  2335.02   2491.98     -6.298606  2335.01  2335.02   \n",
              "\n",
              "          low     high        volume  \n",
              "77762  2307.0  2473.19  20719.583592  \n",
              "77763  2444.0  2780.62   2265.557866  \n",
              "77764  2307.0  2473.19  20732.082581  \n",
              "77765  2444.0  2780.62   2262.618866  \n",
              "77766  2307.0  2473.19  20665.357191  "
            ]
          },
          "execution_count": 26,
          "metadata": {},
          "output_type": "execute_result"
        }
      ],
      "source": [
        "df.head()"
      ]
    },
    {
      "cell_type": "code",
      "execution_count": 27,
      "metadata": {
        "id": "WzhzCw7q-H7p"
      },
      "outputs": [],
      "source": [
        "df = df[['last']]"
      ]
    },
    {
      "cell_type": "code",
      "execution_count": 28,
      "metadata": {
        "id": "TxV2lZrb-J01"
      },
      "outputs": [],
      "source": [
        "dataset = df.values\n",
        "dataset = dataset.astype('float32')"
      ]
    },
    {
      "cell_type": "code",
      "execution_count": 29,
      "metadata": {
        "colab": {
          "base_uri": "https://localhost:8080/"
        },
        "id": "41jdX2oL-LuV",
        "outputId": "38618c2f-8b84-42fb-f9ca-74f7a9c26e6d"
      },
      "outputs": [
        {
          "data": {
            "text/plain": [
              "array([[2344.  ],\n",
              "       [2499.39],\n",
              "       [2337.18],\n",
              "       ...,\n",
              "       [2394.03],\n",
              "       [2320.47],\n",
              "       [2394.03]], dtype=float32)"
            ]
          },
          "execution_count": 29,
          "metadata": {},
          "output_type": "execute_result"
        }
      ],
      "source": [
        "dataset"
      ]
    },
    {
      "cell_type": "code",
      "execution_count": 30,
      "metadata": {
        "id": "7bTypgb5-ODJ"
      },
      "outputs": [],
      "source": [
        "scaler = MinMaxScaler(feature_range=(0, 1))\n",
        "dataset = scaler.fit_transform(dataset)"
      ]
    },
    {
      "cell_type": "code",
      "execution_count": 31,
      "metadata": {
        "colab": {
          "base_uri": "https://localhost:8080/"
        },
        "id": "MecTyq5E-QSC",
        "outputId": "37190485-08a4-469c-ae63-10b8b6bdf2f3"
      },
      "outputs": [
        {
          "data": {
            "text/plain": [
              "array([[0.1997695 ],\n",
              "       [0.49828053],\n",
              "       [0.18666792],\n",
              "       ...,\n",
              "       [0.29587936],\n",
              "       [0.15456724],\n",
              "       [0.29587936]], dtype=float32)"
            ]
          },
          "execution_count": 31,
          "metadata": {},
          "output_type": "execute_result"
        }
      ],
      "source": [
        "dataset"
      ]
    },
    {
      "cell_type": "code",
      "execution_count": 32,
      "metadata": {
        "colab": {
          "base_uri": "https://localhost:8080/"
        },
        "id": "nvwCB1OC-S5s",
        "outputId": "2499e29d-9339-4620-d415-aa3403b52b6f"
      },
      "outputs": [
        {
          "name": "stdout",
          "output_type": "stream",
          "text": [
            "31942 15734\n"
          ]
        }
      ],
      "source": [
        "train_size = int(len(dataset) * 0.67)\n",
        "test_size = len(dataset) - train_size\n",
        "train, test = dataset[0:train_size, :], dataset[train_size:len(dataset), :]\n",
        "print(len(train), len(test))"
      ]
    },
    {
      "cell_type": "code",
      "execution_count": 33,
      "metadata": {
        "id": "eexMr0Tm-Uyw"
      },
      "outputs": [],
      "source": [
        "# convert an array of values into a dataset matrix\n",
        "def create_dataset(dataset, look_back=1):\n",
        "  dataX, dataY = [], []\n",
        "  for i in range(len(dataset)-look_back-1):\n",
        "    a = dataset[i:(i+look_back), 0]\n",
        "    dataX.append(a)\n",
        "    dataY.append(dataset[i + look_back, 0])\n",
        "  return np.array(dataX), np.array(dataY)"
      ]
    },
    {
      "cell_type": "code",
      "execution_count": 34,
      "metadata": {
        "id": "9CLCNgSZ-X-9"
      },
      "outputs": [],
      "source": [
        "look_back = 10\n",
        "trainX, trainY = create_dataset(train, look_back=look_back)\n",
        "testX, testY = create_dataset(test, look_back=look_back)"
      ]
    },
    {
      "cell_type": "code",
      "execution_count": 35,
      "metadata": {
        "colab": {
          "base_uri": "https://localhost:8080/"
        },
        "id": "_2L4nBcM-ZKa",
        "outputId": "3f346521-63f4-4e59-abcd-3a8adac122c7"
      },
      "outputs": [
        {
          "data": {
            "text/plain": [
              "array([[0.1997695 , 0.49828053, 0.18666792, ..., 0.4975314 , 0.19973087,\n",
              "        0.4860053 ],\n",
              "       [0.49828053, 0.18666792, 0.4855442 , ..., 0.19973087, 0.4860053 ,\n",
              "        0.18442059],\n",
              "       [0.18666792, 0.4855442 , 0.18251848, ..., 0.4860053 , 0.18442059,\n",
              "        0.48598576],\n",
              "       ...,\n",
              "       [0.53376245, 0.6943617 , 0.53105354, ..., 0.7082124 , 0.5205841 ,\n",
              "        0.7081547 ],\n",
              "       [0.6943617 , 0.53105354, 0.70823145, ..., 0.5205841 , 0.7081547 ,\n",
              "        0.52665424],\n",
              "       [0.53105354, 0.70823145, 0.5332055 , ..., 0.7081547 , 0.52665424,\n",
              "        0.7081547 ]], dtype=float32)"
            ]
          },
          "execution_count": 35,
          "metadata": {},
          "output_type": "execute_result"
        }
      ],
      "source": [
        "trainX"
      ]
    },
    {
      "cell_type": "code",
      "execution_count": 36,
      "metadata": {
        "colab": {
          "base_uri": "https://localhost:8080/"
        },
        "id": "I0WSPKm9-bs9",
        "outputId": "240802f3-1460-4a3f-897a-4301905181bc"
      },
      "outputs": [
        {
          "data": {
            "text/plain": [
              "array([0.18442059, 0.48598576, 0.19208527, ..., 0.52665424, 0.7081547 ,\n",
              "       0.5206418 ], dtype=float32)"
            ]
          },
          "execution_count": 36,
          "metadata": {},
          "output_type": "execute_result"
        }
      ],
      "source": [
        "trainY"
      ]
    },
    {
      "cell_type": "code",
      "execution_count": 37,
      "metadata": {
        "id": "lRCHSKiL-faL"
      },
      "outputs": [],
      "source": [
        "trainX = np.reshape(trainX, (trainX.shape[0], 1, trainX.shape[1]))\n",
        "testX = np.reshape(testX, (testX.shape[0], 1, testX.shape[1]))"
      ]
    },
    {
      "cell_type": "code",
      "execution_count": 38,
      "metadata": {
        "colab": {
          "base_uri": "https://localhost:8080/"
        },
        "id": "0vQiRT31-jt8",
        "outputId": "dafeab01-8f38-474d-9952-fc7966a590dc"
      },
      "outputs": [
        {
          "name": "stdout",
          "output_type": "stream",
          "text": [
            "Epoch 1/100\n",
            "125/125 - 2s - loss: 0.1184 - 2s/epoch - 17ms/step\n",
            "Epoch 2/100\n",
            "125/125 - 0s - loss: 0.0078 - 202ms/epoch - 2ms/step\n",
            "Epoch 3/100\n",
            "125/125 - 0s - loss: 0.0038 - 208ms/epoch - 2ms/step\n",
            "Epoch 4/100\n",
            "125/125 - 0s - loss: 0.0016 - 211ms/epoch - 2ms/step\n",
            "Epoch 5/100\n",
            "125/125 - 0s - loss: 7.0535e-04 - 183ms/epoch - 1ms/step\n",
            "Epoch 6/100\n",
            "125/125 - 0s - loss: 4.5302e-04 - 156ms/epoch - 1ms/step\n",
            "Epoch 7/100\n",
            "125/125 - 0s - loss: 3.5778e-04 - 153ms/epoch - 1ms/step\n",
            "Epoch 8/100\n",
            "125/125 - 0s - loss: 3.0365e-04 - 222ms/epoch - 2ms/step\n",
            "Epoch 9/100\n",
            "125/125 - 0s - loss: 2.6956e-04 - 254ms/epoch - 2ms/step\n",
            "Epoch 10/100\n",
            "125/125 - 0s - loss: 2.4849e-04 - 268ms/epoch - 2ms/step\n",
            "Epoch 11/100\n",
            "125/125 - 0s - loss: 2.3502e-04 - 242ms/epoch - 2ms/step\n",
            "Epoch 12/100\n",
            "125/125 - 0s - loss: 2.2618e-04 - 264ms/epoch - 2ms/step\n",
            "Epoch 13/100\n",
            "125/125 - 0s - loss: 2.1986e-04 - 250ms/epoch - 2ms/step\n",
            "Epoch 14/100\n",
            "125/125 - 0s - loss: 2.1463e-04 - 241ms/epoch - 2ms/step\n",
            "Epoch 15/100\n",
            "125/125 - 0s - loss: 2.1001e-04 - 442ms/epoch - 4ms/step\n",
            "Epoch 16/100\n",
            "125/125 - 0s - loss: 2.0579e-04 - 242ms/epoch - 2ms/step\n",
            "Epoch 17/100\n",
            "125/125 - 0s - loss: 2.0145e-04 - 267ms/epoch - 2ms/step\n",
            "Epoch 18/100\n",
            "125/125 - 0s - loss: 1.9735e-04 - 293ms/epoch - 2ms/step\n",
            "Epoch 19/100\n",
            "125/125 - 0s - loss: 1.9347e-04 - 253ms/epoch - 2ms/step\n",
            "Epoch 20/100\n",
            "125/125 - 0s - loss: 1.8965e-04 - 342ms/epoch - 3ms/step\n",
            "Epoch 21/100\n",
            "125/125 - 0s - loss: 1.8575e-04 - 156ms/epoch - 1ms/step\n",
            "Epoch 22/100\n",
            "125/125 - 0s - loss: 1.8211e-04 - 150ms/epoch - 1ms/step\n",
            "Epoch 23/100\n",
            "125/125 - 0s - loss: 1.7848e-04 - 155ms/epoch - 1ms/step\n",
            "Epoch 24/100\n",
            "125/125 - 0s - loss: 1.7534e-04 - 147ms/epoch - 1ms/step\n",
            "Epoch 25/100\n",
            "125/125 - 0s - loss: 1.7191e-04 - 153ms/epoch - 1ms/step\n",
            "Epoch 26/100\n",
            "125/125 - 0s - loss: 1.6900e-04 - 154ms/epoch - 1ms/step\n",
            "Epoch 27/100\n",
            "125/125 - 0s - loss: 1.6605e-04 - 146ms/epoch - 1ms/step\n",
            "Epoch 28/100\n",
            "125/125 - 0s - loss: 1.6318e-04 - 157ms/epoch - 1ms/step\n",
            "Epoch 29/100\n",
            "125/125 - 0s - loss: 1.6036e-04 - 160ms/epoch - 1ms/step\n",
            "Epoch 30/100\n",
            "125/125 - 0s - loss: 1.5797e-04 - 144ms/epoch - 1ms/step\n",
            "Epoch 31/100\n",
            "125/125 - 0s - loss: 1.5558e-04 - 148ms/epoch - 1ms/step\n",
            "Epoch 32/100\n",
            "125/125 - 0s - loss: 1.5302e-04 - 162ms/epoch - 1ms/step\n",
            "Epoch 33/100\n",
            "125/125 - 0s - loss: 1.5116e-04 - 156ms/epoch - 1ms/step\n",
            "Epoch 34/100\n",
            "125/125 - 0s - loss: 1.4879e-04 - 163ms/epoch - 1ms/step\n",
            "Epoch 35/100\n",
            "125/125 - 0s - loss: 1.4675e-04 - 154ms/epoch - 1ms/step\n",
            "Epoch 36/100\n",
            "125/125 - 0s - loss: 1.4469e-04 - 155ms/epoch - 1ms/step\n",
            "Epoch 37/100\n",
            "125/125 - 0s - loss: 1.4254e-04 - 160ms/epoch - 1ms/step\n",
            "Epoch 38/100\n",
            "125/125 - 0s - loss: 1.4094e-04 - 156ms/epoch - 1ms/step\n",
            "Epoch 39/100\n",
            "125/125 - 0s - loss: 1.3919e-04 - 154ms/epoch - 1ms/step\n",
            "Epoch 40/100\n",
            "125/125 - 0s - loss: 1.3690e-04 - 160ms/epoch - 1ms/step\n",
            "Epoch 41/100\n",
            "125/125 - 0s - loss: 1.3574e-04 - 163ms/epoch - 1ms/step\n",
            "Epoch 42/100\n",
            "125/125 - 0s - loss: 1.3351e-04 - 154ms/epoch - 1ms/step\n",
            "Epoch 43/100\n",
            "125/125 - 0s - loss: 1.3137e-04 - 149ms/epoch - 1ms/step\n",
            "Epoch 44/100\n",
            "125/125 - 0s - loss: 1.2997e-04 - 150ms/epoch - 1ms/step\n",
            "Epoch 45/100\n",
            "125/125 - 0s - loss: 1.2819e-04 - 149ms/epoch - 1ms/step\n",
            "Epoch 46/100\n",
            "125/125 - 0s - loss: 1.2683e-04 - 156ms/epoch - 1ms/step\n",
            "Epoch 47/100\n",
            "125/125 - 0s - loss: 1.2441e-04 - 156ms/epoch - 1ms/step\n",
            "Epoch 48/100\n",
            "125/125 - 0s - loss: 1.2291e-04 - 145ms/epoch - 1ms/step\n",
            "Epoch 49/100\n",
            "125/125 - 0s - loss: 1.2169e-04 - 154ms/epoch - 1ms/step\n",
            "Epoch 50/100\n",
            "125/125 - 0s - loss: 1.2001e-04 - 150ms/epoch - 1ms/step\n",
            "Epoch 51/100\n",
            "125/125 - 0s - loss: 1.1830e-04 - 165ms/epoch - 1ms/step\n",
            "Epoch 52/100\n",
            "125/125 - 0s - loss: 1.1667e-04 - 158ms/epoch - 1ms/step\n",
            "Epoch 53/100\n",
            "125/125 - 0s - loss: 1.1511e-04 - 150ms/epoch - 1ms/step\n",
            "Epoch 54/100\n",
            "125/125 - 0s - loss: 1.1453e-04 - 157ms/epoch - 1ms/step\n",
            "Epoch 55/100\n",
            "125/125 - 0s - loss: 1.1187e-04 - 155ms/epoch - 1ms/step\n",
            "Epoch 56/100\n",
            "125/125 - 0s - loss: 1.1167e-04 - 158ms/epoch - 1ms/step\n",
            "Epoch 57/100\n",
            "125/125 - 0s - loss: 1.0922e-04 - 162ms/epoch - 1ms/step\n",
            "Epoch 58/100\n",
            "125/125 - 0s - loss: 1.0835e-04 - 183ms/epoch - 1ms/step\n",
            "Epoch 59/100\n",
            "125/125 - 0s - loss: 1.0774e-04 - 221ms/epoch - 2ms/step\n",
            "Epoch 60/100\n",
            "125/125 - 0s - loss: 1.0689e-04 - 198ms/epoch - 2ms/step\n",
            "Epoch 61/100\n",
            "125/125 - 0s - loss: 1.0436e-04 - 197ms/epoch - 2ms/step\n",
            "Epoch 62/100\n",
            "125/125 - 0s - loss: 1.0423e-04 - 208ms/epoch - 2ms/step\n",
            "Epoch 63/100\n",
            "125/125 - 0s - loss: 1.0326e-04 - 201ms/epoch - 2ms/step\n",
            "Epoch 64/100\n",
            "125/125 - 0s - loss: 1.0095e-04 - 212ms/epoch - 2ms/step\n",
            "Epoch 65/100\n",
            "125/125 - 0s - loss: 1.0076e-04 - 197ms/epoch - 2ms/step\n",
            "Epoch 66/100\n",
            "125/125 - 0s - loss: 1.0098e-04 - 201ms/epoch - 2ms/step\n",
            "Epoch 67/100\n",
            "125/125 - 0s - loss: 1.0101e-04 - 218ms/epoch - 2ms/step\n",
            "Epoch 68/100\n",
            "125/125 - 0s - loss: 9.7162e-05 - 198ms/epoch - 2ms/step\n",
            "Epoch 69/100\n",
            "125/125 - 0s - loss: 9.6776e-05 - 205ms/epoch - 2ms/step\n",
            "Epoch 70/100\n",
            "125/125 - 0s - loss: 9.6705e-05 - 226ms/epoch - 2ms/step\n",
            "Epoch 71/100\n",
            "125/125 - 0s - loss: 9.6036e-05 - 206ms/epoch - 2ms/step\n",
            "Epoch 72/100\n",
            "125/125 - 0s - loss: 9.4134e-05 - 179ms/epoch - 1ms/step\n",
            "Epoch 73/100\n",
            "125/125 - 0s - loss: 9.4662e-05 - 150ms/epoch - 1ms/step\n",
            "Epoch 74/100\n",
            "125/125 - 0s - loss: 9.3218e-05 - 167ms/epoch - 1ms/step\n",
            "Epoch 75/100\n",
            "125/125 - 0s - loss: 9.2227e-05 - 161ms/epoch - 1ms/step\n",
            "Epoch 76/100\n",
            "125/125 - 0s - loss: 9.3284e-05 - 164ms/epoch - 1ms/step\n",
            "Epoch 77/100\n",
            "125/125 - 0s - loss: 9.1947e-05 - 159ms/epoch - 1ms/step\n",
            "Epoch 78/100\n",
            "125/125 - 0s - loss: 9.1157e-05 - 161ms/epoch - 1ms/step\n",
            "Epoch 79/100\n",
            "125/125 - 0s - loss: 9.1420e-05 - 149ms/epoch - 1ms/step\n",
            "Epoch 80/100\n",
            "125/125 - 0s - loss: 9.0103e-05 - 153ms/epoch - 1ms/step\n",
            "Epoch 81/100\n",
            "125/125 - 0s - loss: 9.0936e-05 - 169ms/epoch - 1ms/step\n",
            "Epoch 82/100\n",
            "125/125 - 0s - loss: 8.9271e-05 - 170ms/epoch - 1ms/step\n",
            "Epoch 83/100\n",
            "125/125 - 0s - loss: 8.9222e-05 - 160ms/epoch - 1ms/step\n",
            "Epoch 84/100\n",
            "125/125 - 0s - loss: 8.7965e-05 - 156ms/epoch - 1ms/step\n",
            "Epoch 85/100\n",
            "125/125 - 0s - loss: 8.7836e-05 - 158ms/epoch - 1ms/step\n",
            "Epoch 86/100\n",
            "125/125 - 0s - loss: 8.7444e-05 - 158ms/epoch - 1ms/step\n",
            "Epoch 87/100\n",
            "125/125 - 0s - loss: 8.6728e-05 - 162ms/epoch - 1ms/step\n",
            "Epoch 88/100\n",
            "125/125 - 0s - loss: 8.6244e-05 - 160ms/epoch - 1ms/step\n",
            "Epoch 89/100\n",
            "125/125 - 0s - loss: 8.6635e-05 - 161ms/epoch - 1ms/step\n",
            "Epoch 90/100\n",
            "125/125 - 0s - loss: 8.7099e-05 - 155ms/epoch - 1ms/step\n",
            "Epoch 91/100\n",
            "125/125 - 0s - loss: 8.5851e-05 - 151ms/epoch - 1ms/step\n",
            "Epoch 92/100\n",
            "125/125 - 0s - loss: 8.5608e-05 - 164ms/epoch - 1ms/step\n",
            "Epoch 93/100\n",
            "125/125 - 0s - loss: 8.6679e-05 - 159ms/epoch - 1ms/step\n",
            "Epoch 94/100\n",
            "125/125 - 0s - loss: 8.5015e-05 - 172ms/epoch - 1ms/step\n",
            "Epoch 95/100\n",
            "125/125 - 0s - loss: 8.5087e-05 - 152ms/epoch - 1ms/step\n",
            "Epoch 96/100\n",
            "125/125 - 0s - loss: 8.4805e-05 - 161ms/epoch - 1ms/step\n",
            "Epoch 97/100\n",
            "125/125 - 0s - loss: 8.5029e-05 - 165ms/epoch - 1ms/step\n",
            "Epoch 98/100\n",
            "125/125 - 0s - loss: 8.4541e-05 - 158ms/epoch - 1ms/step\n",
            "Epoch 99/100\n",
            "125/125 - 0s - loss: 8.5532e-05 - 166ms/epoch - 1ms/step\n",
            "Epoch 100/100\n",
            "125/125 - 0s - loss: 8.3978e-05 - 172ms/epoch - 1ms/step\n"
          ]
        },
        {
          "data": {
            "text/plain": [
              "<keras.callbacks.History at 0x7fd07b5fd1f0>"
            ]
          },
          "execution_count": 38,
          "metadata": {},
          "output_type": "execute_result"
        }
      ],
      "source": [
        "model = Sequential()\n",
        "model.add(LSTM(4, input_shape=(1, look_back)))\n",
        "model.add(Dense(1))\n",
        "model.compile(loss='mean_squared_error', optimizer='adam')\n",
        "model.fit(trainX, trainY, epochs=100, batch_size=256, verbose=2)"
      ]
    },
    {
      "cell_type": "code",
      "execution_count": 45,
      "metadata": {
        "id": "1DSSxcLSSpnF"
      },
      "outputs": [],
      "source": [
        "model.save('keras_model.h5')"
      ]
    },
    {
      "cell_type": "code",
      "execution_count": 39,
      "metadata": {
        "colab": {
          "base_uri": "https://localhost:8080/"
        },
        "id": "TnRMDBEM-rTT",
        "outputId": "78a5d881-59f6-432c-d8ce-f2f5c18a02e9"
      },
      "outputs": [
        {
          "name": "stdout",
          "output_type": "stream",
          "text": [
            "998/998 [==============================] - 1s 876us/step\n",
            "492/492 [==============================] - 0s 844us/step\n"
          ]
        }
      ],
      "source": [
        "trainPredict = model.predict(trainX)\n",
        "testPredict = model.predict(testX)"
      ]
    },
    {
      "cell_type": "code",
      "execution_count": 40,
      "metadata": {
        "id": "66pBICOx-vCs"
      },
      "outputs": [],
      "source": [
        "trainPredict = scaler.inverse_transform(trainPredict)\n",
        "trainY = scaler.inverse_transform([trainY])\n",
        "testPredict = scaler.inverse_transform(testPredict)\n",
        "testY = scaler.inverse_transform([testY])"
      ]
    },
    {
      "cell_type": "code",
      "execution_count": 41,
      "metadata": {
        "colab": {
          "base_uri": "https://localhost:8080/"
        },
        "id": "27yif4TD-yYQ",
        "outputId": "fd4bc5b4-b43f-49e3-dc72-09cf6450e9f5"
      },
      "outputs": [
        {
          "name": "stdout",
          "output_type": "stream",
          "text": [
            "Train Score: 4.77 RMSE\n",
            "Test Score: 5.49 RMSE\n"
          ]
        }
      ],
      "source": [
        "trainScore = math.sqrt(mean_squared_error(trainY[0], trainPredict[:, 0]))\n",
        "print('Train Score: %.2f RMSE' % (trainScore))\n",
        "testScore = math.sqrt(mean_squared_error(testY[0], testPredict[:, 0]))\n",
        "print('Test Score: %.2f RMSE' % (testScore))"
      ]
    },
    {
      "cell_type": "code",
      "execution_count": 42,
      "metadata": {
        "id": "QmJdKzRi-0Di"
      },
      "outputs": [],
      "source": [
        "trainPredictPlot = np.empty_like(dataset)\n",
        "trainPredictPlot[:, :] = np.nan\n",
        "trainPredictPlot[look_back:len(trainPredict) + look_back, :] = trainPredict\n",
        " "
      ]
    },
    {
      "cell_type": "code",
      "execution_count": 43,
      "metadata": {
        "id": "5XWjxwQt-5L1"
      },
      "outputs": [],
      "source": [
        "testPredictPlot = np.empty_like(dataset)\n",
        "testPredictPlot[:, :] = np.nan\n",
        "testPredictPlot[len(trainPredict) + (look_back * 2) + 1:len(dataset) - 1, :] = testPredict\n",
        " "
      ]
    },
    {
      "cell_type": "code",
      "execution_count": 46,
      "metadata": {
        "colab": {
          "base_uri": "https://localhost:8080/",
          "height": 265
        },
        "id": "smpjPKhB-6iN",
        "outputId": "85572f1a-d549-45bc-a3ee-e3116724a688"
      },
      "outputs": [
        {
          "data": {
            "image/png": "[encoded data removed]",
            "text/plain": [
              "<Figure size 432x288 with 1 Axes>"
            ]
          },
          "metadata": {
            "needs_background": "light"
          },
          "output_type": "display_data"
        }
      ],
      "source": [
        "plt.plot(df['last'], label='Actual')\n",
        "plt.plot(pd.DataFrame(trainPredictPlot, columns=[\"close\"], index=df.index).close, label='Training')\n",
        "plt.plot(pd.DataFrame(testPredictPlot, columns=[\"close\"], index=df.index).close, label='Predicting')\n",
        "plt.legend(loc='best')\n",
        "plt.show()"
      ]
    },
    {
      "cell_type": "markdown",
      "metadata": {
        "id": "Tpe6PIjO9o7y"
      },
      "source": [
        "# New Section"
      ]
    }
  ],
  "metadata": {
    "colab": {
      "provenance": []
    },
    "kernelspec": {
      "display_name": "base",
      "language": "python",
      "name": "python3"
    },
    "language_info": {
      "name": "python",
      "version": "3.9.13"
    },
    "vscode": {
      "interpreter": {
        "hash": "dc07d24e2f18896857f0b2a651fe84ba40ce7b297e58d8804a308c8039f752a6"
      }
    }
  },
  "nbformat": 4,
  "nbformat_minor": 0
}
